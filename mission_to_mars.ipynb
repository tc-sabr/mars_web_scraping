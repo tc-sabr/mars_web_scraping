{
 "cells": [
  {
   "cell_type": "code",
   "execution_count": 12,
   "metadata": {},
   "outputs": [],
   "source": [
    "#dependencies\n",
    "from splinter import Browser\n",
    "from bs4 import BeautifulSoup\n",
    "import pandas as pd"
   ]
  },
  {
   "cell_type": "code",
   "execution_count": 13,
   "metadata": {},
   "outputs": [],
   "source": [
    "#chromedriver path\n",
    "executable_path = {'executable_path': 'chromedriver.exe'}\n",
    "browser = Browser('chrome', **executable_path, headless=False)"
   ]
  },
  {
   "cell_type": "code",
   "execution_count": 14,
   "metadata": {},
   "outputs": [],
   "source": [
    "#url for title and paragraph\n",
    "url = 'https://mars.nasa.gov/news/'\n",
    "browser.visit(url)    "
   ]
  },
  {
   "cell_type": "code",
   "execution_count": 15,
   "metadata": {},
   "outputs": [],
   "source": [
    "html = browser.html\n",
    "soup = BeautifulSoup(html, 'html.parser')"
   ]
  },
  {
   "cell_type": "code",
   "execution_count": 16,
   "metadata": {},
   "outputs": [
    {
     "name": "stdout",
     "output_type": "stream",
     "text": [
      "NASA to Host Media Call on Next Mars Landing Site\n",
      "NASA will host a media teleconference at 9 a.m. PST (noon EST) Monday, Nov. 19, to provide details about the Mars 2020 rover’s landing site on the Red Planet.\n"
     ]
    }
   ],
   "source": [
    "#path for title and paragraph\n",
    "news_title = soup.find('div', class_='content_title').get_text()\n",
    "news_p = soup.find('div', class_='article_teaser_body').get_text()\n",
    "\n",
    "print(news_title)\n",
    "print(news_p)"
   ]
  },
  {
   "cell_type": "code",
   "execution_count": 18,
   "metadata": {},
   "outputs": [],
   "source": [
    "#url for image\n",
    "featured_url = 'https://www.jpl.nasa.gov/spaceimages/?search=&category=Mars'\n",
    "browser.visit(featured_url)"
   ]
  },
  {
   "cell_type": "code",
   "execution_count": 19,
   "metadata": {},
   "outputs": [],
   "source": [
    "html = browser.html\n",
    "soup = BeautifulSoup(html, 'html.parser')"
   ]
  },
  {
   "cell_type": "code",
   "execution_count": 20,
   "metadata": {},
   "outputs": [
    {
     "name": "stdout",
     "output_type": "stream",
     "text": [
      "background-image: url('/spaceimages/images/wallpaper/PIA19952-1920x1200.jpg');\n",
      "/spaceimages/images/wallpaper/PIA19952-1920x1200.jpg');\n",
      "/spaceimages/images/wallpaper/PIA19952-1920x1200.jpg\n",
      "/images/wallpaper/PIA19952-1920x1200.jpg\n"
     ]
    }
   ],
   "source": [
    "#path for featured image\n",
    "featured_image = soup.find('article')['style']\n",
    "\n",
    "print(featured_image)\n",
    "\n",
    "featured_image = featured_image.split(\"('\")[1]\n",
    "\n",
    "print(featured_image)\n",
    "\n",
    "featured_image = featured_image.split(\"')\")[0]\n",
    "\n",
    "print(featured_image)\n",
    "\n",
    "featured_image = featured_image.split(\"spaceimages\")[1]\n",
    "\n",
    "print(featured_image)"
   ]
  },
  {
   "cell_type": "code",
   "execution_count": 21,
   "metadata": {},
   "outputs": [
    {
     "data": {
      "text/plain": [
       "'https://www.jpl.nasa.gov/spaceimages/images/wallpaper/PIA19952-1920x1200.jpg'"
      ]
     },
     "execution_count": 21,
     "metadata": {},
     "output_type": "execute_result"
    }
   ],
   "source": [
    "#full url in variable\n",
    "featured_image_url = f'{featured_url.split(\"/?\")[0]}{featured_image}'\n",
    "\n",
    "featured_image_url"
   ]
  },
  {
   "cell_type": "code",
   "execution_count": 22,
   "metadata": {},
   "outputs": [],
   "source": [
    "#mars weather tweet\n",
    "mars_weather_url = 'https://twitter.com/marswxreport?lang=en'\n",
    "browser.visit(mars_weather_url)"
   ]
  },
  {
   "cell_type": "code",
   "execution_count": 23,
   "metadata": {},
   "outputs": [],
   "source": [
    "html = browser.html\n",
    "soup = BeautifulSoup(html, 'html.parser')"
   ]
  },
  {
   "cell_type": "code",
   "execution_count": 24,
   "metadata": {},
   "outputs": [
    {
     "data": {
      "text/plain": [
       "'Sol 2230 (2018-11-14), high -5C/23F, low -72C/-97F, pressure at 8.59 hPa, daylight 06:22-18:39'"
      ]
     },
     "execution_count": 24,
     "metadata": {},
     "output_type": "execute_result"
    }
   ],
   "source": [
    "#path for latest tweet\n",
    "mars_weather = soup.find('p', class_='TweetTextSize TweetTextSize--normal js-tweet-text tweet-text').get_text()\n",
    "\n",
    "mars_weather"
   ]
  },
  {
   "cell_type": "code",
   "execution_count": 25,
   "metadata": {},
   "outputs": [],
   "source": [
    "#mars facts\n",
    "mars_facts_url = 'http://space-facts.com/mars/'\n",
    "browser.visit(mars_facts_url)"
   ]
  },
  {
   "cell_type": "code",
   "execution_count": 26,
   "metadata": {},
   "outputs": [],
   "source": [
    "html = browser.html\n",
    "soup = BeautifulSoup(html, 'html.parser')"
   ]
  },
  {
   "cell_type": "code",
   "execution_count": 27,
   "metadata": {},
   "outputs": [
    {
     "data": {
      "text/plain": [
       "['Equatorial Diameter:',\n",
       " 'Polar Diameter:',\n",
       " 'Mass:',\n",
       " 'Moons:',\n",
       " 'Orbit Distance:',\n",
       " 'Orbit Period:',\n",
       " 'Surface Temperature: ',\n",
       " 'First Record:',\n",
       " 'Recorded By:']"
      ]
     },
     "execution_count": 27,
     "metadata": {},
     "output_type": "execute_result"
    }
   ],
   "source": [
    "facts_table = soup.find('table', id='tablepress-mars')\n",
    "left_col_facts_table = facts_table.find_all('strong')\n",
    "\n",
    "col_one_facts = []\n",
    "for x in left_col_facts_table:\n",
    "    col_one_facts.append(x.text)\n",
    "    \n",
    "col_one_facts"
   ]
  },
  {
   "cell_type": "code",
   "execution_count": 28,
   "metadata": {},
   "outputs": [
    {
     "data": {
      "text/plain": [
       "['6,792 km\\n',\n",
       " '6,752 km\\n',\n",
       " '6.42 x 10^23 kg (10.7% Earth)',\n",
       " '2 (Phobos & Deimos)',\n",
       " '227,943,824 km (1.52 AU)',\n",
       " '687 days (1.9 years)\\n',\n",
       " '-153 to 20 °C',\n",
       " '2nd millennium BC',\n",
       " 'Egyptian astronomers']"
      ]
     },
     "execution_count": 28,
     "metadata": {},
     "output_type": "execute_result"
    }
   ],
   "source": [
    "right_facts = facts_table.find_all('td', class_='column-2')\n",
    "\n",
    "col_two_facts = []\n",
    "for x in right_facts:\n",
    "    col_two_facts.append(x.text)\n",
    "\n",
    "col_two_facts"
   ]
  },
  {
   "cell_type": "code",
   "execution_count": 35,
   "metadata": {},
   "outputs": [
    {
     "data": {
      "text/plain": [
       "['Equatorial Diameter: 6,792 km\\n',\n",
       " 'Polar Diameter: 6,752 km\\n',\n",
       " 'Mass: 6.42 x 10^23 kg (10.7% Earth)',\n",
       " 'Moons: 2 (Phobos & Deimos)',\n",
       " 'Orbit Distance: 227,943,824 km (1.52 AU)',\n",
       " 'Orbit Period: 687 days (1.9 years)\\n',\n",
       " 'Surface Temperature:  -153 to 20 °C',\n",
       " 'First Record: 2nd millennium BC',\n",
       " 'Recorded By: Egyptian astronomers']"
      ]
     },
     "execution_count": 35,
     "metadata": {},
     "output_type": "execute_result"
    }
   ],
   "source": [
    "full_table = []\n",
    "for each in range(0,len(col_one_facts)):\n",
    "        full_table.append(col_one_facts[each] + \" \" + col_two_facts[each])\n",
    "\n",
    "full_table\n",
    "        \n",
    "# full_table = col_one_facts + col_two_facts\n",
    "# full_table"
   ]
  },
  {
   "cell_type": "code",
   "execution_count": 70,
   "metadata": {},
   "outputs": [
    {
     "data": {
      "text/plain": [
       "{'Equatorial Diameter:': '6,792 km\\n',\n",
       " 'Polar Diameter:': '6,752 km\\n',\n",
       " 'Mass:': '6.42 x 10^23 kg (10.7% Earth)',\n",
       " 'Moons:': '2 (Phobos & Deimos)',\n",
       " 'Orbit Distance:': '227,943,824 km (1.52 AU)',\n",
       " 'Orbit Period:': '687 days (1.9 years)\\n',\n",
       " 'Surface Temperature: ': '-153 to 20 °C',\n",
       " 'First Record:': '2nd millennium BC',\n",
       " 'Recorded By:': 'Egyptian astronomers'}"
      ]
     },
     "execution_count": 70,
     "metadata": {},
     "output_type": "execute_result"
    }
   ],
   "source": [
    "full_facts_table = dict(zip(col_one_facts, col_two_facts))\n",
    "full_facts_table\n",
    "\n",
    "# full_facts_table = {'left': col_one_facts, 'rite': col_two_facts}\n",
    "# full_facts_table"
   ]
  },
  {
   "cell_type": "code",
   "execution_count": 20,
   "metadata": {},
   "outputs": [
    {
     "data": {
      "text/html": [
       "<div>\n",
       "<style scoped>\n",
       "    .dataframe tbody tr th:only-of-type {\n",
       "        vertical-align: middle;\n",
       "    }\n",
       "\n",
       "    .dataframe tbody tr th {\n",
       "        vertical-align: top;\n",
       "    }\n",
       "\n",
       "    .dataframe thead th {\n",
       "        text-align: right;\n",
       "    }\n",
       "</style>\n",
       "<table border=\"1\" class=\"dataframe\">\n",
       "  <thead>\n",
       "    <tr style=\"text-align: right;\">\n",
       "      <th></th>\n",
       "      <th>0</th>\n",
       "      <th>1</th>\n",
       "    </tr>\n",
       "  </thead>\n",
       "  <tbody>\n",
       "    <tr>\n",
       "      <th>0</th>\n",
       "      <td>Equatorial Diameter:</td>\n",
       "      <td>6,792 km</td>\n",
       "    </tr>\n",
       "    <tr>\n",
       "      <th>1</th>\n",
       "      <td>Polar Diameter:</td>\n",
       "      <td>6,752 km</td>\n",
       "    </tr>\n",
       "    <tr>\n",
       "      <th>2</th>\n",
       "      <td>Mass:</td>\n",
       "      <td>6.42 x 10^23 kg (10.7% Earth)</td>\n",
       "    </tr>\n",
       "    <tr>\n",
       "      <th>3</th>\n",
       "      <td>Moons:</td>\n",
       "      <td>2 (Phobos &amp; Deimos)</td>\n",
       "    </tr>\n",
       "    <tr>\n",
       "      <th>4</th>\n",
       "      <td>Orbit Distance:</td>\n",
       "      <td>227,943,824 km (1.52 AU)</td>\n",
       "    </tr>\n",
       "    <tr>\n",
       "      <th>5</th>\n",
       "      <td>Orbit Period:</td>\n",
       "      <td>687 days (1.9 years)</td>\n",
       "    </tr>\n",
       "    <tr>\n",
       "      <th>6</th>\n",
       "      <td>Surface Temperature:</td>\n",
       "      <td>-153 to 20 °C</td>\n",
       "    </tr>\n",
       "    <tr>\n",
       "      <th>7</th>\n",
       "      <td>First Record:</td>\n",
       "      <td>2nd millennium BC</td>\n",
       "    </tr>\n",
       "    <tr>\n",
       "      <th>8</th>\n",
       "      <td>Recorded By:</td>\n",
       "      <td>Egyptian astronomers</td>\n",
       "    </tr>\n",
       "  </tbody>\n",
       "</table>\n",
       "</div>"
      ],
      "text/plain": [
       "                      0                              1\n",
       "0  Equatorial Diameter:                       6,792 km\n",
       "1       Polar Diameter:                       6,752 km\n",
       "2                 Mass:  6.42 x 10^23 kg (10.7% Earth)\n",
       "3                Moons:            2 (Phobos & Deimos)\n",
       "4       Orbit Distance:       227,943,824 km (1.52 AU)\n",
       "5         Orbit Period:           687 days (1.9 years)\n",
       "6  Surface Temperature:                  -153 to 20 °C\n",
       "7         First Record:              2nd millennium BC\n",
       "8          Recorded By:           Egyptian astronomers"
      ]
     },
     "execution_count": 20,
     "metadata": {},
     "output_type": "execute_result"
    }
   ],
   "source": [
    "facts_tables = pd.read_html(mars_facts_url)\n",
    "facts_tables[0]"
   ]
  },
  {
   "cell_type": "code",
   "execution_count": 21,
   "metadata": {},
   "outputs": [],
   "source": [
    "#mars hemispheres\n",
    "cerberus_url = 'https://astrogeology.usgs.gov/search/map/Mars/Viking/cerberus_enhanced'\n",
    "schiaparelli_url = 'https://astrogeology.usgs.gov/search/map/Mars/Viking/schiaparelli_enhanced'\n",
    "syrtis_major_url = 'https://astrogeology.usgs.gov/search/map/Mars/Viking/syrtis_major_enhanced'\n",
    "valles_marineris_url = 'https://astrogeology.usgs.gov/search/map/Mars/Viking/valles_marineris_enhanced'"
   ]
  },
  {
   "cell_type": "code",
   "execution_count": 22,
   "metadata": {},
   "outputs": [],
   "source": [
    "hemisphere_image_urls = []"
   ]
  },
  {
   "cell_type": "code",
   "execution_count": 23,
   "metadata": {},
   "outputs": [],
   "source": [
    "#cerberus hemisphere url and title\n",
    "browser.visit(cerberus_url)"
   ]
  },
  {
   "cell_type": "code",
   "execution_count": 24,
   "metadata": {},
   "outputs": [],
   "source": [
    "html = browser.html\n",
    "soup = BeautifulSoup(html, 'html.parser')"
   ]
  },
  {
   "cell_type": "code",
   "execution_count": 25,
   "metadata": {},
   "outputs": [
    {
     "name": "stdout",
     "output_type": "stream",
     "text": [
      "https://astrogeology.usgs.gov/search/map/Mars/Viking/cerberus_enhanced\n",
      "Cerberus Hemisphere\n"
     ]
    }
   ],
   "source": [
    "#get url and title for cerberus\n",
    "cerberus_img_url = soup.find('div', class_='downloads')\n",
    "cerberus_img_url = cerberus_img_url.find('li')\n",
    "cerberus_img_url = cerberus_img_url.find('a')['href']\n",
    "print(cerberus_url)\n",
    "\n",
    "cerberus_title = soup.find('h2', class_='title').get_text()\n",
    "cerberus_title = cerberus_title.split(' ')[0]+\" \"+cerberus_title.split(' ')[1]\n",
    "print(cerberus_title)"
   ]
  },
  {
   "cell_type": "code",
   "execution_count": 26,
   "metadata": {},
   "outputs": [
    {
     "name": "stdout",
     "output_type": "stream",
     "text": [
      "[{'title': 'Cerberus Hemisphere', 'img_url': 'http://astropedia.astrogeology.usgs.gov/download/Mars/Viking/cerberus_enhanced.tif/full.jpg'}]\n"
     ]
    }
   ],
   "source": [
    "#create cerberus dict and append to list\n",
    "cerberus = {'title': cerberus_title, 'img_url': cerberus_img_url}\n",
    "hemisphere_image_urls.append(cerberus)\n",
    "print(hemisphere_image_urls)"
   ]
  },
  {
   "cell_type": "code",
   "execution_count": 27,
   "metadata": {},
   "outputs": [],
   "source": [
    "#schiaparelli hemisphere url & title\n",
    "browser.visit(schiaparelli_url)\n",
    "html = browser.html\n",
    "soup = BeautifulSoup(html, 'html.parser')"
   ]
  },
  {
   "cell_type": "code",
   "execution_count": 28,
   "metadata": {},
   "outputs": [
    {
     "name": "stdout",
     "output_type": "stream",
     "text": [
      "http://astropedia.astrogeology.usgs.gov/download/Mars/Viking/schiaparelli_enhanced.tif/full.jpg\n",
      "Schiaparelli Hemisphere\n"
     ]
    }
   ],
   "source": [
    "#get url and title for schiaparelli\n",
    "schiaparelli_img_url = soup.find('div', class_='downloads')\n",
    "schiaparelli_img_url = schiaparelli_img_url.find('li')\n",
    "schiaparelli_img_url = schiaparelli_img_url.find('a')['href']\n",
    "print(schiaparelli_img_url)\n",
    "\n",
    "schiaparelli_title = soup.find('h2', class_='title').get_text()\n",
    "schiaparelli_title = schiaparelli_title.split(' ')[0]+\" \"+schiaparelli_title.split(' ')[1]\n",
    "print(schiaparelli_title)"
   ]
  },
  {
   "cell_type": "code",
   "execution_count": 29,
   "metadata": {},
   "outputs": [
    {
     "name": "stdout",
     "output_type": "stream",
     "text": [
      "[{'title': 'Cerberus Hemisphere', 'img_url': 'http://astropedia.astrogeology.usgs.gov/download/Mars/Viking/cerberus_enhanced.tif/full.jpg'}, {'title': 'Schiaparelli Hemisphere', 'img_url': 'http://astropedia.astrogeology.usgs.gov/download/Mars/Viking/schiaparelli_enhanced.tif/full.jpg'}]\n"
     ]
    }
   ],
   "source": [
    "#create schiaparelli dict and append to list\n",
    "schiaparelli = {'title': schiaparelli_title, 'img_url': schiaparelli_img_url}\n",
    "hemisphere_image_urls.append(schiaparelli)\n",
    "print(hemisphere_image_urls)"
   ]
  },
  {
   "cell_type": "code",
   "execution_count": 30,
   "metadata": {},
   "outputs": [],
   "source": [
    "#syrtis_major hemisphere url & title\n",
    "browser.visit(syrtis_major_url)\n",
    "html = browser.html\n",
    "soup = BeautifulSoup(html, 'html.parser')"
   ]
  },
  {
   "cell_type": "code",
   "execution_count": 31,
   "metadata": {},
   "outputs": [
    {
     "name": "stdout",
     "output_type": "stream",
     "text": [
      "http://astropedia.astrogeology.usgs.gov/download/Mars/Viking/syrtis_major_enhanced.tif/full.jpg\n",
      "Syrtis Major\n"
     ]
    }
   ],
   "source": [
    "#get url and title for syrtis_major\n",
    "syrtis_major_img_url = soup.find('div', class_='downloads')\n",
    "syrtis_major_img_url = syrtis_major_img_url.find('li')\n",
    "syrtis_major_img_url = syrtis_major_img_url.find('a')['href']\n",
    "print(syrtis_major_img_url)\n",
    "\n",
    "syrtis_major_title = soup.find('h2', class_='title').get_text()\n",
    "syrtis_major_title = syrtis_major_title.split(' ')[0]+\" \"+syrtis_major_title.split(' ')[1]\n",
    "print(syrtis_major_title)"
   ]
  },
  {
   "cell_type": "code",
   "execution_count": 32,
   "metadata": {},
   "outputs": [
    {
     "name": "stdout",
     "output_type": "stream",
     "text": [
      "[{'title': 'Cerberus Hemisphere', 'img_url': 'http://astropedia.astrogeology.usgs.gov/download/Mars/Viking/cerberus_enhanced.tif/full.jpg'}, {'title': 'Schiaparelli Hemisphere', 'img_url': 'http://astropedia.astrogeology.usgs.gov/download/Mars/Viking/schiaparelli_enhanced.tif/full.jpg'}, {'title': 'Syrtis Major', 'img_url': 'http://astropedia.astrogeology.usgs.gov/download/Mars/Viking/syrtis_major_enhanced.tif/full.jpg'}]\n"
     ]
    }
   ],
   "source": [
    "#create syrtis_major dict and append to list\n",
    "syrtis_major = {'title': syrtis_major_title, 'img_url': syrtis_major_img_url}\n",
    "hemisphere_image_urls.append(syrtis_major)\n",
    "print(hemisphere_image_urls)"
   ]
  },
  {
   "cell_type": "code",
   "execution_count": 33,
   "metadata": {},
   "outputs": [],
   "source": [
    "#valles_marineris hemisphere url & title\n",
    "browser.visit(valles_marineris_url)\n",
    "html = browser.html\n",
    "soup = BeautifulSoup(html, 'html.parser')"
   ]
  },
  {
   "cell_type": "code",
   "execution_count": 34,
   "metadata": {},
   "outputs": [
    {
     "name": "stdout",
     "output_type": "stream",
     "text": [
      "http://astropedia.astrogeology.usgs.gov/download/Mars/Viking/valles_marineris_enhanced.tif/full.jpg\n",
      "Valles Marineris\n"
     ]
    }
   ],
   "source": [
    "#get url and title for valles_marineris\n",
    "valles_marineris_img_url = soup.find('div', class_='downloads')\n",
    "valles_marineris_img_url = valles_marineris_img_url.find('li')\n",
    "valles_marineris_img_url = valles_marineris_img_url.find('a')['href']\n",
    "print(valles_marineris_img_url)\n",
    "\n",
    "valles_marineris_title = soup.find('h2', class_='title').get_text()\n",
    "valles_marineris_title = valles_marineris_title.split(' ')[0]+\" \"+valles_marineris_title.split(' ')[1]\n",
    "print(valles_marineris_title)"
   ]
  },
  {
   "cell_type": "code",
   "execution_count": 35,
   "metadata": {},
   "outputs": [
    {
     "name": "stdout",
     "output_type": "stream",
     "text": [
      "[{'title': 'Cerberus Hemisphere', 'img_url': 'http://astropedia.astrogeology.usgs.gov/download/Mars/Viking/cerberus_enhanced.tif/full.jpg'}, {'title': 'Schiaparelli Hemisphere', 'img_url': 'http://astropedia.astrogeology.usgs.gov/download/Mars/Viking/schiaparelli_enhanced.tif/full.jpg'}, {'title': 'Syrtis Major', 'img_url': 'http://astropedia.astrogeology.usgs.gov/download/Mars/Viking/syrtis_major_enhanced.tif/full.jpg'}, {'title': 'Valles Marineris', 'img_url': 'http://astropedia.astrogeology.usgs.gov/download/Mars/Viking/valles_marineris_enhanced.tif/full.jpg'}]\n"
     ]
    }
   ],
   "source": [
    "#create valles_marineris dict and append to list\n",
    "valles_marineris = {'title': valles_marineris_title, 'img_url': valles_marineris_img_url}\n",
    "hemisphere_image_urls.append(valles_marineris)\n",
    "print(hemisphere_image_urls)"
   ]
  }
 ],
 "metadata": {
  "kernelspec": {
   "display_name": "Python [default]",
   "language": "python",
   "name": "python3"
  },
  "language_info": {
   "codemirror_mode": {
    "name": "ipython",
    "version": 3
   },
   "file_extension": ".py",
   "mimetype": "text/x-python",
   "name": "python",
   "nbconvert_exporter": "python",
   "pygments_lexer": "ipython3",
   "version": "3.6.5"
  }
 },
 "nbformat": 4,
 "nbformat_minor": 2
}
